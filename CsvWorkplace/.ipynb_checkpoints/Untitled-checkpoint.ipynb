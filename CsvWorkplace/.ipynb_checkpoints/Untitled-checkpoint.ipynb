{
 "cells": [
  {
   "cell_type": "code",
   "execution_count": 18,
   "metadata": {},
   "outputs": [
    {
     "name": "stdout",
     "output_type": "stream",
     "text": [
      "1080 1920\n"
     ]
    }
   ],
   "source": [
    "# import required classes\n",
    " \n",
    "from PIL import Image, ImageDraw, ImageFont\n",
    " \n",
    "# create Image object with the input image\n",
    " \n",
    "image = Image.open('donut_better.png')\n",
    "\n",
    "width, height = image.size\n",
    "print(height, width)\n",
    " \n",
    "# initialise the drawing context with\n",
    "# the image object as background\n",
    " \n",
    "draw = ImageDraw.Draw(image)\n",
    "\n",
    "# create font object with the font file and specify\n",
    "# desired size\n",
    " \n",
    "font = ImageFont.truetype(\"arial.ttf\", 50)\n",
    " \n",
    "# starting position of the message\n",
    " \n",
    "(x, y) = (width/2,height/2)\n",
    "message = \"Happy Birthday!\"\n",
    "color = 'rgb(255, 255, 255)' # black color\n",
    " \n",
    "# draw the message on the background\n",
    " \n",
    "draw.text((x, y), message, fill=color, font=font)\n",
    "(x, y) = (width/2,height/2 - 50)\n",
    "name = 'Ata'\n",
    "color = 'rgb(255, 255, 255)' # white color\n",
    "draw.text((x, y), name, fill=color, font=font)\n",
    " \n",
    "# save the edited image\n",
    " \n",
    "image.save('greeting_card.png')"
   ]
  },
  {
   "cell_type": "code",
   "execution_count": null,
   "metadata": {},
   "outputs": [],
   "source": []
  },
  {
   "cell_type": "code",
   "execution_count": null,
   "metadata": {},
   "outputs": [],
   "source": []
  },
  {
   "cell_type": "code",
   "execution_count": null,
   "metadata": {},
   "outputs": [],
   "source": []
  }
 ],
 "metadata": {
  "kernelspec": {
   "display_name": "Python 3",
   "language": "python",
   "name": "python3"
  },
  "language_info": {
   "codemirror_mode": {
    "name": "ipython",
    "version": 3
   },
   "file_extension": ".py",
   "mimetype": "text/x-python",
   "name": "python",
   "nbconvert_exporter": "python",
   "pygments_lexer": "ipython3",
   "version": "3.7.6"
  }
 },
 "nbformat": 4,
 "nbformat_minor": 4
}
