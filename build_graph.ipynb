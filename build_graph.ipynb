{
 "cells": [
  {
   "cell_type": "code",
   "execution_count": 1,
   "metadata": {},
   "outputs": [],
   "source": [
    "import pandas as pd\n",
    "import numpy as np\n",
    "import networkx as nx"
   ]
  },
  {
   "cell_type": "code",
   "execution_count": 29,
   "metadata": {},
   "outputs": [
    {
     "data": {
      "text/plain": [
       "array(['AA', 'AAGB', 'AAT', ..., 'ZWIP', 'ZWOL', 'ZZ'], dtype=object)"
      ]
     },
     "execution_count": 29,
     "metadata": {},
     "output_type": "execute_result"
    }
   ],
   "source": [
    "#her OP nin unique ismi var, bunlari kunlarak lines i dogru formata gecirebilirsin.\n",
    "np.unique(lines.loc[:,\"Abbreviation of the operating point\"].to_numpy())"
   ]
  },
  {
   "cell_type": "code",
   "execution_count": 3,
   "metadata": {},
   "outputs": [],
   "source": [
    "lines = pd.read_csv(\"linie-mit-betriebspunkten.xls.csv\")\n",
    "G = nx.Graph()\n",
    "\n",
    "#dogrudan linesla calismak hatali, cunku lines'da bazi operation pointler birden fazla defa karsimiza cikiyor, her karsimiza cikisinda\n",
    "#graph'a node eklemek istemiyoruz. Once lines dataframe ini her OP nin bir rowda kayitli oldugu bir formata donusturursen bu comment'in\n",
    "#altindaki kod sana graph'i yaratir.\n",
    "for index, row in lines.iterrows():\n",
    "    G.add_nodes_from([(index, row.to_dict())])\n",
    "    \n",
    "line_ids = np.unique(lines.loc[:,\"LINIE\"].to_numpy())\n",
    "for line_id in line_ids:\n",
    "    operation_points = lines[lines[\"LINIE\"] == line_id].sort_values(by='Kilometry of the operating point')\n",
    "    operation_points = operation_points.index.to_numpy()\n",
    "    edges = np.concatenate((operation_points[:-1][:,np.newaxis],operation_points[1:][:,np.newaxis]), axis=1)\n",
    "    G.add_edges_from(edges)"
   ]
  }
 ],
 "metadata": {
  "kernelspec": {
   "display_name": "aml",
   "language": "python",
   "name": "aml"
  },
  "language_info": {
   "codemirror_mode": {
    "name": "ipython",
    "version": 3
   },
   "file_extension": ".py",
   "mimetype": "text/x-python",
   "name": "python",
   "nbconvert_exporter": "python",
   "pygments_lexer": "ipython3",
   "version": "3.8.5"
  }
 },
 "nbformat": 4,
 "nbformat_minor": 4
}
