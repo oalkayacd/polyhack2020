{
 "cells": [
  {
   "cell_type": "code",
   "execution_count": 6,
   "metadata": {},
   "outputs": [],
   "source": [
    "import csv\n",
    "\n",
    "with open('construction-site.xls.csv') as csvFile:\n",
    "    with open('construction-site-withDayData.csv', 'w', newline='') as csvFileWrite:\n",
    "        csvReader = csv.reader(csvFile, delimiter=',')\n",
    "        csvWriter = csv.writer(csvFileWrite, delimiter=',')\n",
    "        lineCount=0\n",
    "        for row in csvReader:\n",
    "            integerCoding = 404\n",
    "            if lineCount!=0:\n",
    "                if row[11] != \"\":\n",
    "                    keywords = row[11].split(' ')\n",
    "                    if \"Umsetzung\" in keywords:\n",
    "                        integerCoding = 0\n",
    "                    elif \"Strecke\" in keywords:\n",
    "                        if \"Tag\" in keywords:\n",
    "                            integerCoding = 1\n",
    "                        elif \"Nacht\" in keywords:\n",
    "                            integerCoding = 2\n",
    "                        elif \"24\" in keywords:\n",
    "                            integerCoding = 3\n",
    "                    elif \"Bahnhof\" in keywords:\n",
    "                        if \"Tag\" in keywords:\n",
    "                            integerCoding = 4\n",
    "                        elif \"Nacht\" in keywords:\n",
    "                            integerCoding = 5\n",
    "                        elif \"24\" in keywords:\n",
    "                            integerCoding = 6\n",
    "                row.append(integerCoding)\n",
    "            csvWriter.writerow(row)\n",
    "            lineCount +=1"
   ]
  },
  {
   "cell_type": "code",
   "execution_count": null,
   "metadata": {},
   "outputs": [],
   "source": []
  }
 ],
 "metadata": {
  "kernelspec": {
   "display_name": "Python 3",
   "language": "python",
   "name": "python3"
  },
  "language_info": {
   "codemirror_mode": {
    "name": "ipython",
    "version": 3
   },
   "file_extension": ".py",
   "mimetype": "text/x-python",
   "name": "python",
   "nbconvert_exporter": "python",
   "pygments_lexer": "ipython3",
   "version": "3.7.6"
  }
 },
 "nbformat": 4,
 "nbformat_minor": 4
}
