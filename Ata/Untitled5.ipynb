{
 "cells": [
  {
   "cell_type": "code",
   "execution_count": 23,
   "metadata": {},
   "outputs": [
    {
     "ename": "ValueError",
     "evalue": "'JES' is not in list",
     "output_type": "error",
     "traceback": [
      "\u001b[1;31m---------------------------------------------------------------------------\u001b[0m",
      "\u001b[1;31mValueError\u001b[0m                                Traceback (most recent call last)",
      "\u001b[1;32m<ipython-input-23-ee0b5a7dc519>\u001b[0m in \u001b[0;36m<module>\u001b[1;34m\u001b[0m\n\u001b[0;32m     33\u001b[0m     \u001b[1;32mfor\u001b[0m \u001b[0mj\u001b[0m \u001b[1;32min\u001b[0m \u001b[0mrange\u001b[0m\u001b[1;33m(\u001b[0m\u001b[0mlen\u001b[0m\u001b[1;33m(\u001b[0m\u001b[0msplitarr\u001b[0m\u001b[1;33m)\u001b[0m\u001b[1;33m-\u001b[0m\u001b[1;36m1\u001b[0m\u001b[1;33m)\u001b[0m\u001b[1;33m:\u001b[0m\u001b[1;33m\u001b[0m\u001b[1;33m\u001b[0m\u001b[0m\n\u001b[0;32m     34\u001b[0m         \u001b[0mindex\u001b[0m \u001b[1;33m=\u001b[0m \u001b[0mabbArray\u001b[0m\u001b[1;33m.\u001b[0m\u001b[0mindex\u001b[0m\u001b[1;33m(\u001b[0m\u001b[0msplitarr\u001b[0m\u001b[1;33m[\u001b[0m\u001b[0mj\u001b[0m\u001b[1;33m]\u001b[0m\u001b[1;33m)\u001b[0m\u001b[1;33m\u001b[0m\u001b[1;33m\u001b[0m\u001b[0m\n\u001b[1;32m---> 35\u001b[1;33m         \u001b[0mindex1\u001b[0m \u001b[1;33m=\u001b[0m \u001b[0mabbArray\u001b[0m\u001b[1;33m.\u001b[0m\u001b[0mindex\u001b[0m\u001b[1;33m(\u001b[0m\u001b[0msplitarr\u001b[0m\u001b[1;33m[\u001b[0m\u001b[0mj\u001b[0m\u001b[1;33m+\u001b[0m\u001b[1;36m1\u001b[0m\u001b[1;33m]\u001b[0m\u001b[1;33m)\u001b[0m\u001b[1;33m\u001b[0m\u001b[1;33m\u001b[0m\u001b[0m\n\u001b[0m\u001b[0;32m     36\u001b[0m \u001b[1;33m\u001b[0m\u001b[0m\n\u001b[0;32m     37\u001b[0m \u001b[1;33m\u001b[0m\u001b[0m\n",
      "\u001b[1;31mValueError\u001b[0m: 'JES' is not in list"
     ]
    }
   ],
   "source": [
    "import csv\n",
    "\n",
    "idArray = []\n",
    "pathArray = []\n",
    "\n",
    "with open('id_shortestpath.csv') as csvFile:\n",
    "    csvReader = csv.reader(csvFile, delimiter=',')\n",
    "    lineCount=0\n",
    "    for row in csvReader:\n",
    "        if lineCount!=0:\n",
    "            idArray.append(row[0])\n",
    "            pathArray.append(row[1])\n",
    "        lineCount +=1\n",
    "        \n",
    "abbArray = []\n",
    "geoXArray = []\n",
    "geoYArray = []\n",
    "with open('operation_points_split.csv') as csvFile:\n",
    "    csvReader = csv.reader(csvFile, delimiter=',')\n",
    "    lineCount=0\n",
    "    for row in csvReader:\n",
    "        if lineCount!=0:\n",
    "            abbArray.append(row[0])\n",
    "            geoXArray.append(row[14])\n",
    "            geoYArray.append(row[15])\n",
    "        lineCount +=1\n",
    "        \n",
    "geo2dArray = []\n",
    "for i in range(len(pathArray)):\n",
    "    splitarr = []\n",
    "    for elem in pathArray[i].strip(\"][\").split(\",\"):\n",
    "        splitarr.append(elem.replace(\"'\", \"\").replace(\" \",\"\"))\n",
    "    for j in range(len(splitarr)-1):\n",
    "        index = abbArray.index(splitarr[j])\n",
    "        index1 = abbArray.index(splitarr[j+1])\n",
    "\n",
    "                \n",
    "        geo2dArray.append([geoXArray[index],geoYArray[index1]])\n",
    "\n",
    "print(geo2dArray)\n",
    "            \n",
    "            \n",
    "            \n",
    "            \n",
    "        \n",
    "    \n",
    "    "
   ]
  },
  {
   "cell_type": "code",
   "execution_count": null,
   "metadata": {},
   "outputs": [],
   "source": []
  }
 ],
 "metadata": {
  "kernelspec": {
   "display_name": "Python 3",
   "language": "python",
   "name": "python3"
  },
  "language_info": {
   "codemirror_mode": {
    "name": "ipython",
    "version": 3
   },
   "file_extension": ".py",
   "mimetype": "text/x-python",
   "name": "python",
   "nbconvert_exporter": "python",
   "pygments_lexer": "ipython3",
   "version": "3.7.6"
  }
 },
 "nbformat": 4,
 "nbformat_minor": 4
}
