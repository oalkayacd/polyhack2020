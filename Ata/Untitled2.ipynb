{
 "cells": [
  {
   "cell_type": "code",
   "execution_count": 16,
   "metadata": {},
   "outputs": [
    {
     "name": "stdout",
     "output_type": "stream",
     "text": [
      "{'abbr': 'GF', 'fullName': 'Glattfelden', 'bpuic': '8503400', 'didok': '3400', 'lat': ' 47.548557954', 'lng': '8.52405520291'}\n",
      "{'abbr': 'BUE', 'fullName': 'BÃ¼lach', 'bpuic': '8503400', 'didok': '3400', 'lat': ' 47.5239499588', 'lng': '8.53620921292'}\n",
      "{'abbr': 'HUEW', 'fullName': 'HÃ¼ntwangen-Wil', 'bpuic': '8503402', 'didok': '3402', 'lat': ' 47.581268881', 'lng': '8.51284803608'}\n",
      "{'abbr': 'EGL', 'fullName': 'Eglisau', 'bpuic': '8503402', 'didok': '3402', 'lat': ' 47.5723745199', 'lng': '8.5165580286'}\n",
      "{'abbr': 'NOU', 'fullName': 'Nieder- und Oberurnen', 'bpuic': '8503227', 'didok': '3227', 'lat': ' 47.1223616523', 'lng': '9.06239377776'}\n",
      "{'abbr': 'NAEF', 'fullName': 'NÃ¤fels-Mollis', 'bpuic': '8503227', 'didok': '3227', 'lat': ' 47.0987192922', 'lng': '9.06995689606'}\n",
      "{'abbr': 'RUEM', 'fullName': 'RÃ¼mlang', 'bpuic': '8515476', 'didok': '15476', 'lat': ' 47.4540656001', 'lng': '8.5327672959'}\n",
      "{'abbr': 'TALR', 'fullName': 'Tankanlage RÃ¼mlang', 'bpuic': '8515476', 'didok': '15476', 'lat': ' 47.4366639443', 'lng': '8.54948429914'}\n",
      "{'abbr': 'SHSU', 'fullName': 'Schaffhausen SÃ¼d', 'bpuic': '8503423', 'didok': '3423', 'lat': ' 47.6936599501', 'lng': '8.62759994147'}\n",
      "{'abbr': 'NH', 'fullName': 'Neuhausen', 'bpuic': '8503423', 'didok': '3423', 'lat': ' 47.683133385', 'lng': '8.62493454502'}\n",
      "{'abbr': 'GF', 'fullName': 'Glattfelden', 'bpuic': '8503400', 'didok': '3400', 'lat': ' 47.548557954', 'lng': '8.52405520291'}\n",
      "{'abbr': 'BUE', 'fullName': 'BÃ¼lach', 'bpuic': '8503400', 'didok': '3400', 'lat': ' 47.5239499588', 'lng': '8.53620921292'}\n",
      "{'abbr': 'GF', 'fullName': 'Glattfelden', 'bpuic': '8503400', 'didok': '3400', 'lat': ' 47.548557954', 'lng': '8.52405520291'}\n",
      "{'abbr': 'BUE', 'fullName': 'BÃ¼lach', 'bpuic': '8503400', 'didok': '3400', 'lat': ' 47.5239499588', 'lng': '8.53620921292'}\n",
      "{'abbr': 'GF', 'fullName': 'Glattfelden', 'bpuic': '8503400', 'didok': '3400', 'lat': ' 47.548557954', 'lng': '8.52405520291'}\n",
      "{'abbr': 'BUE', 'fullName': 'BÃ¼lach', 'bpuic': '8503400', 'didok': '3400', 'lat': ' 47.5239499588', 'lng': '8.53620921292'}\n"
     ]
    }
   ],
   "source": [
    "import csv\n",
    "\n",
    "infoArr = []\n",
    "\n",
    "\n",
    "with open('zugzahlen.xls.csv') as csvFile:\n",
    "    csvReader = csv.reader(csvFile, delimiter=',')\n",
    "    lineCount=0\n",
    "    for row in csvReader:\n",
    "        if lineCount!=0:\n",
    "            if row[5] != \"\" and row[6] != \"\" and row[20] != \"\":\n",
    "                latLngVon = row[20].split(',')\n",
    "                dictVon = {\n",
    "                    \"abbr\" : row[5],\n",
    "                    \"fullName\" : row[6],\n",
    "                    \"bpuic\" : row[14],\n",
    "                    \"didok\" : row[15],\n",
    "                    \"lat\" : latLngVon[1],\n",
    "                    \"lng\" : latLngVon[0]\n",
    "                }\n",
    "                infoArr.append(dictVon)\n",
    "            if row[7] != \"\" and row[8] != \"\" and row[21] != \"\":\n",
    "                latLngBis = row[21].split(',')\n",
    "                dictBis = {\n",
    "                    \"abbr\" : row[7],\n",
    "                    \"fullName\" : row[8],\n",
    "                    \"bpuic\" : row[14],\n",
    "                    \"didok\" : row[15],\n",
    "                    \"lat\" : latLngBis[1],\n",
    "                    \"lng\" : latLngBis[0]\n",
    "                }  \n",
    "                infoArr.append(dictVon)\n",
    "        if row[7] == \"JES\" or row[5]==\"JES\":\n",
    "            print(dictVon)\n",
    "            print(dictBis)\n",
    "        lineCount += 1        \n",
    "abbrArr = []\n",
    "with open('operation_points_split.csv') as csvFile:\n",
    "    csvReader = csv.reader(csvFile, delimiter=',')\n",
    "    lineCount=0\n",
    "    for row in csvReader:\n",
    "        if lineCount!=0:\n",
    "            abbrArr.append(row[0])\n",
    "        lineCount +=1\n",
    "\n",
    "            \n",
    "with open('operation_point_split.csv', 'a+', newline='') as write_obj:\n",
    "    csv_writer = csv.writer(write_obj)\n",
    "    index = 0\n",
    "    for elem in infoArr:\n",
    "        if elem.get(\"abbr\") not in abbrArr:\n",
    "            abbrArr.append(elem.get(\"abbr\"))\n",
    "            csv_writer.writerow([infoArr[index].get(\"abbr\"), infoArr[index].get(\"fullName\"),\"\",\"\",\"\",\"\",\"\",\"\",\"\",\"\",infoArr[index].get(\"bpuic\"),infoArr[index].get(\"didok\"),\"\",\"\",infoArr[index].get(\"lat\"),infoArr[index].get(\"lng\")])\n",
    "        index += 1\n",
    "        \n",
    "        \n",
    "    \n",
    "            "
   ]
  },
  {
   "cell_type": "code",
   "execution_count": null,
   "metadata": {},
   "outputs": [],
   "source": []
  },
  {
   "cell_type": "code",
   "execution_count": null,
   "metadata": {},
   "outputs": [],
   "source": []
  }
 ],
 "metadata": {
  "kernelspec": {
   "display_name": "Python 3",
   "language": "python",
   "name": "python3"
  },
  "language_info": {
   "codemirror_mode": {
    "name": "ipython",
    "version": 3
   },
   "file_extension": ".py",
   "mimetype": "text/x-python",
   "name": "python",
   "nbconvert_exporter": "python",
   "pygments_lexer": "ipython3",
   "version": "3.7.6"
  }
 },
 "nbformat": 4,
 "nbformat_minor": 4
}
