{
 "cells": [
  {
   "cell_type": "code",
   "execution_count": 9,
   "metadata": {},
   "outputs": [],
   "source": [
    "import csv\n",
    "\n",
    "infoArr = []\n",
    "\n",
    "\n",
    "with open('zugzahlen.xls.csv') as csvFile:\n",
    "    csvReader = csv.reader(csvFile, delimiter=',')\n",
    "    lineCount=0\n",
    "    for row in csvReader:\n",
    "        if lineCount!=0:\n",
    "            if row[5] != \"\" and row[6] != \"\" and row[20] != \"\" and row[14] != \"\" and row[15] != \"\":\n",
    "                latLngVon = row[20].split(',')\n",
    "                dictVon = {\n",
    "                    \"abbr\" : row[5],\n",
    "                    \"fullName\" : row[6],\n",
    "                    \"bpuic\" : row[14],\n",
    "                    \"didok\" : row[15],\n",
    "                    \"lat\" : latLngVon[0],\n",
    "                    \"lng\" : latLngVon[1]\n",
    "                }\n",
    "                infoArr.append(dictVon)\n",
    "            if row[7] != \"\" and row[8] != \"\" and row[21] != \"\" and row[14] != \"\" and row[15] != \"\":\n",
    "                latLngBis = row[21].split(',')\n",
    "                dictBis = {\n",
    "                    \"abbr\" : row[5],\n",
    "                    \"fullName\" : row[6],\n",
    "                    \"bpuic\" : row[14],\n",
    "                    \"didok\" : row[15],\n",
    "                    \"lat\" : latLngBis[0],\n",
    "                    \"lng\" : latLngBis[1]\n",
    "                }  \n",
    "                infoArr.append(dictBis)\n",
    "        lineCount += 1        \n",
    "abbrArr = []                        \n",
    "with open('operation_points_split.csv') as csvFile:\n",
    "    csvReader = csv.reader(csvFile, delimiter=',')\n",
    "    csvWriter = csv.writer(csvFile, delimiter=',')\n",
    "    lineCount=0\n",
    "    for row in csvReader:\n",
    "        if lineCount!=0:\n",
    "            abbrArr.append(row[0])\n",
    "        lineCount +=1\n",
    "\n",
    "            \n",
    "with open('operation_points_split.csv', 'a+', newline='') as write_obj:\n",
    "    csv_writer = csv.writer(write_obj)\n",
    "    index = 0\n",
    "    for elem in infoArr:\n",
    "        if elem.get(\"abbr\") not in abbrArr:\n",
    "            abbrArr.append(elem.get(\"abbr\"))\n",
    "            csv_writer.writerow([infoArr[index].get(\"abbr\"), infoArr[index].get(\"fullName\"),\"\",\"\",\"\",\"\",\"\",\"\",\"\",\"\",infoArr[index].get(\"bpuic\"),infoArr[index].get(\"didok\"),\"\",\"\",infoArr[index].get(\"lat\"),infoArr[index].get(\"lng\")])\n",
    "        index += 1\n",
    "        \n",
    "        \n",
    "    \n",
    "            "
   ]
  },
  {
   "cell_type": "code",
   "execution_count": null,
   "metadata": {},
   "outputs": [],
   "source": []
  }
 ],
 "metadata": {
  "kernelspec": {
   "display_name": "Python 3",
   "language": "python",
   "name": "python3"
  },
  "language_info": {
   "codemirror_mode": {
    "name": "ipython",
    "version": 3
   },
   "file_extension": ".py",
   "mimetype": "text/x-python",
   "name": "python",
   "nbconvert_exporter": "python",
   "pygments_lexer": "ipython3",
   "version": "3.7.6"
  }
 },
 "nbformat": 4,
 "nbformat_minor": 4
}
