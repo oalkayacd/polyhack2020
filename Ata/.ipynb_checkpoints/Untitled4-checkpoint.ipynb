{
 "cells": [
  {
   "cell_type": "code",
   "execution_count": 3,
   "metadata": {},
   "outputs": [
    {
     "ename": "NameError",
     "evalue": "name 'csv_writer' is not defined",
     "output_type": "error",
     "traceback": [
      "\u001b[1;31m---------------------------------------------------------------------------\u001b[0m",
      "\u001b[1;31mNameError\u001b[0m                                 Traceback (most recent call last)",
      "\u001b[1;32m<ipython-input-3-8f25dac66a27>\u001b[0m in \u001b[0;36m<module>\u001b[1;34m\u001b[0m\n\u001b[0;32m     28\u001b[0m                             \u001b[0mintegerCoding\u001b[0m \u001b[1;33m=\u001b[0m \u001b[1;36m6\u001b[0m\u001b[1;33m\u001b[0m\u001b[1;33m\u001b[0m\u001b[0m\n\u001b[0;32m     29\u001b[0m                 \u001b[0mrow\u001b[0m\u001b[1;33m.\u001b[0m\u001b[0mappend\u001b[0m\u001b[1;33m(\u001b[0m\u001b[0mintegerCoding\u001b[0m\u001b[1;33m)\u001b[0m\u001b[1;33m\u001b[0m\u001b[1;33m\u001b[0m\u001b[0m\n\u001b[1;32m---> 30\u001b[1;33m             \u001b[0mcsv_writer\u001b[0m\u001b[1;33m.\u001b[0m\u001b[0mwriterow\u001b[0m\u001b[1;33m(\u001b[0m\u001b[0mrow\u001b[0m\u001b[1;33m)\u001b[0m\u001b[1;33m\u001b[0m\u001b[1;33m\u001b[0m\u001b[0m\n\u001b[0m\u001b[0;32m     31\u001b[0m             \u001b[0mlineCount\u001b[0m \u001b[1;33m+=\u001b[0m\u001b[1;36m1\u001b[0m\u001b[1;33m\u001b[0m\u001b[1;33m\u001b[0m\u001b[0m\n",
      "\u001b[1;31mNameError\u001b[0m: name 'csv_writer' is not defined"
     ]
    }
   ],
   "source": [
    "import csv\n",
    "\n",
    "with open('construction-site.xls.csv') as csvFile:\n",
    "    with open('construction-site-withDayData.csv', 'w', newline=''):\n",
    "        csvReader = csv.reader(csvFile, delimiter=',')\n",
    "        csvWriter = csv.writer(csvFile, delimiter=',')\n",
    "        lineCount=0\n",
    "        for row in csvReader:\n",
    "            integerCoding = 404\n",
    "            if lineCount!=0:\n",
    "                if row[11] != \"\":\n",
    "                    keywords = row[11].split(' ')\n",
    "                    if \"Umsetzung\" in keywords:\n",
    "                        integerCoding = 0\n",
    "                    elif \"Strecke\" in keywords:\n",
    "                        if \"Tag\" in keywords:\n",
    "                            integerCoding = 1\n",
    "                        elif \"Nacht\" in keywords:\n",
    "                            integerCoding = 2\n",
    "                        elif \"24\" in keywords:\n",
    "                            integerCoding = 3\n",
    "                    elif \"Bahnhof\" in keywords:\n",
    "                        if \"Tag\" in keywords:\n",
    "                            integerCoding = 4\n",
    "                        elif \"Nacht\" in keywords:\n",
    "                            integerCoding = 5\n",
    "                        elif \"24\" in keywords:\n",
    "                            integerCoding = 6\n",
    "                row.append(integerCoding)\n",
    "            csvWriter.writerow(row)\n",
    "            lineCount +=1"
   ]
  },
  {
   "cell_type": "code",
   "execution_count": null,
   "metadata": {},
   "outputs": [],
   "source": []
  }
 ],
 "metadata": {
  "kernelspec": {
   "display_name": "Python 3",
   "language": "python",
   "name": "python3"
  },
  "language_info": {
   "codemirror_mode": {
    "name": "ipython",
    "version": 3
   },
   "file_extension": ".py",
   "mimetype": "text/x-python",
   "name": "python",
   "nbconvert_exporter": "python",
   "pygments_lexer": "ipython3",
   "version": "3.7.6"
  }
 },
 "nbformat": 4,
 "nbformat_minor": 4
}
