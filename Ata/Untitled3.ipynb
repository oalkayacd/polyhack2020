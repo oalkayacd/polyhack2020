{
 "cells": [
  {
   "cell_type": "code",
   "execution_count": 1,
   "metadata": {},
   "outputs": [],
   "source": [
    "import csv\n",
    "\n",
    "abbrArr = []\n",
    "impArr = []\n",
    "with open('id_importance.csv') as csvFile:\n",
    "    csvReader = csv.reader(csvFile, delimiter=',')\n",
    "    lineCount=0\n",
    "    for row in csvReader:\n",
    "        if lineCount!=0:\n",
    "            abbrArr.append(row[0])\n",
    "            impArr.append(row[1])\n",
    "        lineCount +=1\n",
    "\n",
    "\n",
    "with open('operation_points_split.csv', 'r', newline='') as read_obj:\n",
    "        with open('operation_points_split_importance.csv', 'w', newline='') as write_obj:\n",
    "            csv_reader = csv.reader(read_obj)\n",
    "            csv_writer = csv.writer(write_obj)\n",
    "            lineCount = 0\n",
    "            for row in csv_reader:\n",
    "                if lineCount != 0:\n",
    "                    index = abbrArr.index(row[0])\n",
    "                    row.append(impArr[index])\n",
    "                \n",
    "                csv_writer.writerow(row)\n",
    "                lineCount += 1"
   ]
  },
  {
   "cell_type": "code",
   "execution_count": null,
   "metadata": {},
   "outputs": [],
   "source": []
  },
  {
   "cell_type": "code",
   "execution_count": null,
   "metadata": {},
   "outputs": [],
   "source": []
  },
  {
   "cell_type": "code",
   "execution_count": null,
   "metadata": {},
   "outputs": [],
   "source": []
  }
 ],
 "metadata": {
  "kernelspec": {
   "display_name": "Python 3",
   "language": "python",
   "name": "python3"
  },
  "language_info": {
   "codemirror_mode": {
    "name": "ipython",
    "version": 3
   },
   "file_extension": ".py",
   "mimetype": "text/x-python",
   "name": "python",
   "nbconvert_exporter": "python",
   "pygments_lexer": "ipython3",
   "version": "3.7.6"
  }
 },
 "nbformat": 4,
 "nbformat_minor": 4
}
